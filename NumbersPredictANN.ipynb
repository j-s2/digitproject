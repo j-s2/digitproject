{
 "cells": [
  {
   "cell_type": "code",
   "execution_count": null,
   "id": "948bbae0-8c13-46a3-ac90-4e78c5d72b13",
   "metadata": {},
   "outputs": [],
   "source": [
    "import numpy as np\n",
    "import torch\n",
    "from torch.nn.functional import normalize\n",
    "import torch.nn as nn\n",
    "import torch.nn.functional as F\n",
    "from sklearn.model_selection import train_test_split\n",
    "\n",
    "# read in data\n",
    "dataset = np.genfromtxt(\"MNIST_DATA.csv\", delimiter=\",\")"
   ]
  },
  {
   "cell_type": "code",
   "execution_count": null,
   "id": "b70fb33b-7670-4df7-af06-a05f5d2020d2",
   "metadata": {},
   "outputs": [],
   "source": [
    "dataset = np.delete(dataset, 0, 0) # delete column names from numpy array"
   ]
  },
  {
   "cell_type": "code",
   "execution_count": null,
   "id": "dbe14c55-fab1-4ba2-b4ad-4748a0088b7c",
   "metadata": {},
   "outputs": [],
   "source": [
    "y = dataset[:, 0:1] # set dependent variable\n",
    "X = dataset[:, 1:] # set independent variables"
   ]
  },
  {
   "cell_type": "code",
   "execution_count": null,
   "id": "5c6497bd-ff05-488b-b820-dd609e79357c",
   "metadata": {},
   "outputs": [],
   "source": [
    "torch.manual_seed(0)\n",
    "\n",
    "# convert to pytorch tensors\n",
    "X = torch.tensor(X, dtype=torch.float32)\n",
    "y = torch.tensor(y, dtype=torch.int64).reshape(-1,1)\n",
    "\n",
    "# define train and test sizes\n",
    "train_size = int(0.8*len(X))\n",
    "test_size = len(X) - train_size\n",
    "y = y.view(-1)\n",
    "\n",
    "X_train, X_test = torch.utils.data.random_split(X, [train_size, test_size])\n",
    "y_train, y_test = torch.utils.data.random_split(y, [train_size, test_size])"
   ]
  },
  {
   "cell_type": "code",
   "execution_count": null,
   "id": "9645dc17-e684-491c-9f6b-80fb71dd06a3",
   "metadata": {},
   "outputs": [],
   "source": [
    "class MyNetwork(nn.Module):\n",
    "    def __init__(self):\n",
    "        # calls super class of nn.module before we do our own initialization\n",
    "        super(MyNetwork, self).__init__()\n",
    "        self.model = nn.Sequential(\n",
    "            nn.Linear(784, 392),\n",
    "            nn.ReLU(True),\n",
    "            nn.Linear(392, 196),\n",
    "            nn.ReLU(True),\n",
    "            nn.Linear(196, 10), \n",
    "            nn.LogSoftmax(dim=1)\n",
    "        )\n",
    "\n",
    "    def forward(self, x):\n",
    "        x = torch.flatten(x, 1) # flatten image\n",
    "        x = self.model(x) # apply network to our input (x) batch\n",
    "        return x # return predictions"
   ]
  },
  {
   "cell_type": "code",
   "execution_count": null,
   "id": "0843c337-a6bb-41c4-8fd2-a16fce9984ff",
   "metadata": {},
   "outputs": [],
   "source": [
    "model = MyNetwork()\n",
    "print(model)"
   ]
  },
  {
   "cell_type": "code",
   "execution_count": null,
   "id": "b892ecc9-b347-4d80-9651-20678c68971c",
   "metadata": {},
   "outputs": [],
   "source": [
    "# set batch and epochs\n",
    "BATCH_SIZE = 50\n",
    "EPOCHS = 15"
   ]
  },
  {
   "cell_type": "code",
   "execution_count": null,
   "id": "6707c755-be8e-4a00-a261-fc0bcbbc53b6",
   "metadata": {},
   "outputs": [],
   "source": [
    "# create loss function\n",
    "loss_function = nn.NLLLoss()\n",
    "# create optimizer\n",
    "optimizer = torch.optim.Adam(model.parameters(), lr=.005)"
   ]
  },
  {
   "cell_type": "code",
   "execution_count": null,
   "id": "aef6c502-e2b7-4d2e-829b-e65fc2f9f1cc",
   "metadata": {},
   "outputs": [],
   "source": [
    "# train model \n",
    "\n",
    "for epochs in range(EPOCHS):\n",
    "    for batch in range(0, len(X_train), BATCH_SIZE):\n",
    "        # grab batch of samples\n",
    "        X_samples = X_train[batch:batch+BATCH_SIZE]\n",
    "        Y_samples = y_train[batch:batch+BATCH_SIZE]\n",
    "        \n",
    "        # create predictions\n",
    "        predictions = model(X_samples)\n",
    "        \n",
    "        # calculate loss\n",
    "        loss = loss_function(predictions, Y_samples)\n",
    "        \n",
    "        optimizer.zero_grad()\n",
    "        loss.backward()\n",
    "        optimizer.step()\n",
    "    print(f\"loss: {loss:>7f} [{epochs}]\")"
   ]
  },
  {
   "cell_type": "code",
   "execution_count": null,
   "id": "5ddd4d82-d397-443d-923b-928faac564c4",
   "metadata": {},
   "outputs": [],
   "source": [
    "# begin computation of accuracy\n",
    "with torch.no_grad():\n",
    "    X_samples_ = X_test[0: 0+test_size-1]\n",
    "    y_predictions = model(X_samples_)\n",
    "    predictions_adjusted = torch.exp(y_predictions) # adjust numbers back after LogSoftmax\n",
    "    predictions = torch.argmax(predictions_adjusted, dim=1)"
   ]
  },
  {
   "cell_type": "code",
   "execution_count": null,
   "id": "a07a3042-df4e-4380-949c-3cba896ec526",
   "metadata": {},
   "outputs": [],
   "source": [
    "Y_samples_ = y_test[0: 0+test_size-1]\n",
    "accuracy = ((predictions == Y_samples_)).sum() / len(y_test) \n",
    "print(f\"Accuracy: {accuracy:>7f}\")"
   ]
  },
  {
   "cell_type": "code",
   "execution_count": null,
   "id": "289288b7-87e4-411c-ad4d-7b89b6173673",
   "metadata": {},
   "outputs": [],
   "source": []
  }
 ],
 "metadata": {
  "kernelspec": {
   "display_name": "Python 3 (ipykernel)",
   "language": "python",
   "name": "python3"
  },
  "language_info": {
   "codemirror_mode": {
    "name": "ipython",
    "version": 3
   },
   "file_extension": ".py",
   "mimetype": "text/x-python",
   "name": "python",
   "nbconvert_exporter": "python",
   "pygments_lexer": "ipython3",
   "version": "3.10.11"
  }
 },
 "nbformat": 4,
 "nbformat_minor": 5
}
